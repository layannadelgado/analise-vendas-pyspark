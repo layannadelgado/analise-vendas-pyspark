{
 "cells": [
  {
   "cell_type": "markdown",
   "metadata": {
    "application/vnd.databricks.v1+cell": {
     "cellMetadata": {
      "byteLimit": 2048000,
      "rowLimit": 10000
     },
     "inputWidgets": {},
     "nuid": "09e388fd-99d6-4ddb-a46d-a2813be68a2e",
     "showTitle": false,
     "tableResultSettingsMap": {},
     "title": ""
    }
   },
   "source": [
    "## Importando Bibliotecas"
   ]
  },
  {
   "cell_type": "code",
   "execution_count": 0,
   "metadata": {
    "application/vnd.databricks.v1+cell": {
     "cellMetadata": {
      "byteLimit": 2048000,
      "rowLimit": 10000
     },
     "inputWidgets": {},
     "nuid": "b7ee8931-6157-4453-9398-f55714d0842e",
     "showTitle": false,
     "tableResultSettingsMap": {},
     "title": ""
    }
   },
   "outputs": [],
   "source": [
    "import pandas as pd\n",
    "from pyspark.sql import functions as F\n",
    "from pyspark.sql.types import FloatType\n",
    "from pyspark.sql import SparkSession\n",
    "spark = SparkSession.builder.getOrCreate() # criando uma SparkSession"
   ]
  },
  {
   "cell_type": "markdown",
   "metadata": {
    "application/vnd.databricks.v1+cell": {
     "cellMetadata": {
      "byteLimit": 2048000,
      "rowLimit": 10000
     },
     "inputWidgets": {},
     "nuid": "afd7bcf1-2780-40f3-bb24-fe1ed6f2c60e",
     "showTitle": false,
     "tableResultSettingsMap": {},
     "title": ""
    }
   },
   "source": [
    "## Leitura do Arquivo"
   ]
  },
  {
   "cell_type": "code",
   "execution_count": 0,
   "metadata": {
    "application/vnd.databricks.v1+cell": {
     "cellMetadata": {
      "byteLimit": 2048000,
      "rowLimit": 10000
     },
     "inputWidgets": {},
     "nuid": "1ba217e1-47e3-4032-9e39-c79dbd9d6ee1",
     "showTitle": false,
     "tableResultSettingsMap": {},
     "title": ""
    }
   },
   "outputs": [],
   "source": [
    "arquivo = \"/Volumes/curso_telos/analise_vendas/dados_brutos/online_retail_II.xlsx\"\n",
    "\n",
    "arq2011 = pd.read_excel(arquivo, sheet_name=\"Year 2010-2011\")\n",
    "\n",
    "df = arq2011.astype({'Invoice': str, 'StockCode': str, 'Description': str})\n",
    "\n",
    "#Criando um dataframe do spark\n",
    "df_vendas = spark.createDataFrame(df)"
   ]
  },
  {
   "cell_type": "markdown",
   "metadata": {
    "application/vnd.databricks.v1+cell": {
     "cellMetadata": {
      "byteLimit": 2048000,
      "rowLimit": 10000
     },
     "inputWidgets": {},
     "nuid": "066c60f0-4756-4df0-bf37-54f01243a5fc",
     "showTitle": false,
     "tableResultSettingsMap": {},
     "title": ""
    }
   },
   "source": [
    "## Visualizando os tipos das colunas"
   ]
  },
  {
   "cell_type": "code",
   "execution_count": 0,
   "metadata": {
    "application/vnd.databricks.v1+cell": {
     "cellMetadata": {
      "byteLimit": 2048000,
      "rowLimit": 10000
     },
     "inputWidgets": {},
     "nuid": "d4cca003-e0e0-4d9a-a3d4-e6edc4c6ea94",
     "showTitle": false,
     "tableResultSettingsMap": {},
     "title": ""
    }
   },
   "outputs": [
    {
     "output_type": "stream",
     "name": "stdout",
     "output_type": "stream",
     "text": [
      "root\n |-- Invoice: string (nullable = true)\n |-- StockCode: string (nullable = true)\n |-- Description: string (nullable = true)\n |-- Quantity: long (nullable = true)\n |-- InvoiceDate: timestamp (nullable = true)\n |-- Price: double (nullable = true)\n |-- Customer ID: double (nullable = true)\n |-- Country: string (nullable = true)\n\n"
     ]
    }
   ],
   "source": [
    "df_vendas.printSchema()"
   ]
  },
  {
   "cell_type": "markdown",
   "metadata": {
    "application/vnd.databricks.v1+cell": {
     "cellMetadata": {
      "byteLimit": 2048000,
      "rowLimit": 10000
     },
     "inputWidgets": {},
     "nuid": "7a09419c-71dd-48ef-a4d3-9b96dddf89fe",
     "showTitle": false,
     "tableResultSettingsMap": {},
     "title": ""
    }
   },
   "source": [
    "# Simulador 1 - Nível 8 (Big Data, ETL e Cloud para Data Analysts)"
   ]
  },
  {
   "cell_type": "markdown",
   "metadata": {
    "application/vnd.databricks.v1+cell": {
     "cellMetadata": {
      "byteLimit": 2048000,
      "rowLimit": 10000
     },
     "inputWidgets": {},
     "nuid": "8562bc05-af8a-41eb-b6bc-1e70122a8ca9",
     "showTitle": false,
     "tableResultSettingsMap": {},
     "title": ""
    }
   },
   "source": [
    "## 1. Quantos clientes distintos existem no dataset (com Customer ID não nulo)?"
   ]
  },
  {
   "cell_type": "code",
   "execution_count": 0,
   "metadata": {
    "application/vnd.databricks.v1+cell": {
     "cellMetadata": {
      "byteLimit": 2048000,
      "rowLimit": 10000
     },
     "inputWidgets": {},
     "nuid": "229670dc-0f20-41e0-acc8-5547146e57c0",
     "showTitle": false,
     "tableResultSettingsMap": {},
     "title": ""
    }
   },
   "outputs": [
    {
     "output_type": "display_data",
     "data": {
      "text/plain": [
       "4372"
      ]
     },
     "metadata": {},
     "output_type": "display_data"
    }
   ],
   "source": [
    "clientes_distintos = df_vendas.filter(F.col(\"Customer ID\").isNotNull()).select(\"Customer ID\").distinct().count()\n",
    "display(clientes_distintos)"
   ]
  },
  {
   "cell_type": "markdown",
   "metadata": {
    "application/vnd.databricks.v1+cell": {
     "cellMetadata": {
      "byteLimit": 2048000,
      "rowLimit": 10000
     },
     "inputWidgets": {},
     "nuid": "83806f8a-d133-4691-9540-54e366fb300e",
     "showTitle": false,
     "tableResultSettingsMap": {},
     "title": ""
    }
   },
   "source": [
    "## 2. Qual país (exceto Reino Unido) teve o maior número de clientes únicos?\n"
   ]
  },
  {
   "cell_type": "code",
   "execution_count": 0,
   "metadata": {
    "application/vnd.databricks.v1+cell": {
     "cellMetadata": {
      "byteLimit": 2048000,
      "rowLimit": 10000
     },
     "inputWidgets": {},
     "nuid": "886dae88-d318-4a7a-b12d-5437c1afd1b4",
     "showTitle": false,
     "tableResultSettingsMap": {},
     "title": ""
    }
   },
   "outputs": [
    {
     "output_type": "stream",
     "name": "stdout",
     "output_type": "stream",
     "text": [
      "+-----------+------------+\n|    Country|qtd_clientes|\n+-----------+------------+\n|    Germany|          95|\n|     France|          87|\n|      Spain|          31|\n|    Belgium|          25|\n|Switzerland|          21|\n|   Portugal|          19|\n|      Italy|          15|\n|    Finland|          12|\n|    Austria|          11|\n|     Norway|          10|\n+-----------+------------+\nonly showing top 10 rows\n"
     ]
    }
   ],
   "source": [
    "#Utilizando o pySpark\n",
    "pais_maior_clientes = df_vendas.filter((F.col(\"Customer ID\").isNotNull()) & (F.col(\"Country\") != \"United Kingdom\")).groupBy(\"Country\").agg(F.countDistinct(\"Customer ID\").alias(\"qtd_clientes\")).orderBy(F.desc(\"qtd_clientes\"))\n",
    "pais_maior_clientes.show(10)\n"
   ]
  },
  {
   "cell_type": "markdown",
   "metadata": {
    "application/vnd.databricks.v1+cell": {
     "cellMetadata": {
      "byteLimit": 2048000,
      "rowLimit": 10000
     },
     "inputWidgets": {},
     "nuid": "ed1d99b4-99a6-47a2-a4b3-d4e4a309ced8",
     "showTitle": false,
     "tableResultSettingsMap": {},
     "title": ""
    }
   },
   "source": [
    "## 3. Qual comando PySpark pode ser usado para verificar o schema do DataFrame df criado a partir do dataset?"
   ]
  },
  {
   "cell_type": "code",
   "execution_count": 0,
   "metadata": {
    "application/vnd.databricks.v1+cell": {
     "cellMetadata": {
      "byteLimit": 2048000,
      "rowLimit": 10000
     },
     "inputWidgets": {},
     "nuid": "b312ff08-4164-42c7-86fc-df337c236bef",
     "showTitle": false,
     "tableResultSettingsMap": {},
     "title": ""
    }
   },
   "outputs": [
    {
     "output_type": "stream",
     "name": "stdout",
     "output_type": "stream",
     "text": [
      "root\n |-- Invoice: string (nullable = true)\n |-- StockCode: string (nullable = true)\n |-- Description: string (nullable = true)\n |-- Quantity: long (nullable = true)\n |-- InvoiceDate: timestamp (nullable = true)\n |-- Price: double (nullable = true)\n |-- Customer ID: double (nullable = true)\n |-- Country: string (nullable = true)\n\n"
     ]
    }
   ],
   "source": [
    "df_vendas.printSchema()"
   ]
  },
  {
   "cell_type": "markdown",
   "metadata": {
    "application/vnd.databricks.v1+cell": {
     "cellMetadata": {
      "byteLimit": 2048000,
      "rowLimit": 10000
     },
     "inputWidgets": {},
     "nuid": "e17874a7-c851-45ca-abff-4544f4f6dde5",
     "showTitle": false,
     "tableResultSettingsMap": {},
     "title": ""
    }
   },
   "source": [
    "## 4. Como você pode criar uma nova coluna TotalPrice no DataFrame df, que multiplica Quantity por UnitPrice?"
   ]
  },
  {
   "cell_type": "code",
   "execution_count": 0,
   "metadata": {
    "application/vnd.databricks.v1+cell": {
     "cellMetadata": {
      "byteLimit": 2048000,
      "rowLimit": 10000
     },
     "inputWidgets": {},
     "nuid": "fd7c8ea5-baaa-4630-a60c-2584b2bd164a",
     "showTitle": false,
     "tableResultSettingsMap": {},
     "title": ""
    }
   },
   "outputs": [
    {
     "output_type": "stream",
     "name": "stdout",
     "output_type": "stream",
     "text": [
      "+-------+---------+--------------------+--------+-------------------+-----+-----------+--------------+------------------+\n|Invoice|StockCode|         Description|Quantity|        InvoiceDate|Price|Customer ID|       Country|        TotalPrice|\n+-------+---------+--------------------+--------+-------------------+-----+-----------+--------------+------------------+\n| 536365|   85123A|WHITE HANGING HEA...|       6|2010-12-01 08:26:00| 2.55|    17850.0|United Kingdom|15.299999999999999|\n| 536365|    71053| WHITE METAL LANTERN|       6|2010-12-01 08:26:00| 3.39|    17850.0|United Kingdom|             20.34|\n| 536365|   84406B|CREAM CUPID HEART...|       8|2010-12-01 08:26:00| 2.75|    17850.0|United Kingdom|              22.0|\n| 536365|   84029G|KNITTED UNION FLA...|       6|2010-12-01 08:26:00| 3.39|    17850.0|United Kingdom|             20.34|\n| 536365|   84029E|RED WOOLLY HOTTIE...|       6|2010-12-01 08:26:00| 3.39|    17850.0|United Kingdom|             20.34|\n| 536365|    22752|SET 7 BABUSHKA NE...|       2|2010-12-01 08:26:00| 7.65|    17850.0|United Kingdom|              15.3|\n| 536365|    21730|GLASS STAR FROSTE...|       6|2010-12-01 08:26:00| 4.25|    17850.0|United Kingdom|              25.5|\n| 536366|    22633|HAND WARMER UNION...|       6|2010-12-01 08:28:00| 1.85|    17850.0|United Kingdom|11.100000000000001|\n| 536366|    22632|HAND WARMER RED P...|       6|2010-12-01 08:28:00| 1.85|    17850.0|United Kingdom|11.100000000000001|\n| 536368|    22960|JAM MAKING SET WI...|       6|2010-12-01 08:34:00| 4.25|    13047.0|United Kingdom|              25.5|\n+-------+---------+--------------------+--------+-------------------+-----+-----------+--------------+------------------+\nonly showing top 10 rows\n"
     ]
    }
   ],
   "source": [
    "df_vendas = df_vendas.withColumn(\"TotalPrice\", F.col(\"Quantity\") * F.col(\"Price\"))\n",
    "df_vendas.show(10)"
   ]
  },
  {
   "cell_type": "code",
   "execution_count": 0,
   "metadata": {
    "application/vnd.databricks.v1+cell": {
     "cellMetadata": {
      "byteLimit": 2048000,
      "rowLimit": 10000
     },
     "inputWidgets": {},
     "nuid": "324a8958-00d8-42bc-8616-61bc74a30215",
     "showTitle": false,
     "tableResultSettingsMap": {},
     "title": ""
    }
   },
   "outputs": [],
   "source": [
    "\n",
    "df_vendas = df_vendas.withColumn(\"TotalPrice\", F.col(\"TotalPrice\").cast(\"double\"))\n"
   ]
  },
  {
   "cell_type": "code",
   "execution_count": 0,
   "metadata": {
    "application/vnd.databricks.v1+cell": {
     "cellMetadata": {
      "byteLimit": 2048000,
      "rowLimit": 10000
     },
     "inputWidgets": {},
     "nuid": "c0c273f6-7d0d-4a6e-ba87-5caf75432229",
     "showTitle": false,
     "tableResultSettingsMap": {},
     "title": ""
    }
   },
   "outputs": [
    {
     "output_type": "stream",
     "name": "stdout",
     "output_type": "stream",
     "text": [
      "root\n |-- Invoice: string (nullable = true)\n |-- StockCode: string (nullable = true)\n |-- Description: string (nullable = true)\n |-- Quantity: long (nullable = true)\n |-- InvoiceDate: timestamp (nullable = true)\n |-- Price: double (nullable = true)\n |-- Customer ID: double (nullable = true)\n |-- Country: string (nullable = true)\n |-- TotalPrice: double (nullable = true)\n\n"
     ]
    }
   ],
   "source": [
    "df_vendas.printSchema()"
   ]
  },
  {
   "cell_type": "markdown",
   "metadata": {
    "application/vnd.databricks.v1+cell": {
     "cellMetadata": {
      "byteLimit": 2048000,
      "rowLimit": 10000
     },
     "inputWidgets": {},
     "nuid": "3ca9bd6a-7cba-4259-b43e-c2ea3c8cc23b",
     "showTitle": false,
     "tableResultSettingsMap": {},
     "title": ""
    }
   },
   "source": [
    "## 5. Qual país (exceto Reino Unido) teve o maior valor médio por transação (Total)?"
   ]
  },
  {
   "cell_type": "code",
   "execution_count": 0,
   "metadata": {
    "application/vnd.databricks.v1+cell": {
     "cellMetadata": {
      "byteLimit": 2048000,
      "rowLimit": 10000
     },
     "inputWidgets": {},
     "nuid": "e20e568e-7f8b-4837-bfd3-ebefb921f4e7",
     "showTitle": false,
     "tableResultSettingsMap": {},
     "title": ""
    }
   },
   "outputs": [
    {
     "output_type": "stream",
     "name": "stdout",
     "output_type": "stream",
     "text": [
      "+-----------+---------------+\n|    Country|media_transacao|\n+-----------+---------------+\n|Netherlands|         120.06|\n|  Australia|         108.88|\n|      Japan|          98.72|\n|     Sweden|          79.21|\n|    Denmark|          48.25|\n|  Lithuania|          47.46|\n|  Singapore|          39.83|\n|    Lebanon|          37.64|\n|     Brazil|          35.74|\n|  Hong Kong|          35.13|\n+-----------+---------------+\nonly showing top 10 rows\n"
     ]
    }
   ],
   "source": [
    "media_transacao = df_vendas.filter((F.col(\"Country\")!=\"United Kingdom\")&F.col(\"TotalPrice\").isNotNull()).groupBy(\"Country\").agg(F.round(F.avg(\"TotalPrice\"),2).alias(\"media_transacao\")).orderBy(F.desc(\"media_transacao\"))\n",
    "media_transacao.show(10)"
   ]
  },
  {
   "cell_type": "markdown",
   "metadata": {
    "application/vnd.databricks.v1+cell": {
     "cellMetadata": {
      "byteLimit": 2048000,
      "rowLimit": 10000
     },
     "inputWidgets": {},
     "nuid": "7dee3821-969c-48ca-a888-4d32506dace6",
     "showTitle": false,
     "tableResultSettingsMap": {},
     "title": ""
    }
   },
   "source": [
    "## 6. Qual o StockCode mais vendido (em quantidade) ao longo do período?"
   ]
  },
  {
   "cell_type": "code",
   "execution_count": 0,
   "metadata": {
    "application/vnd.databricks.v1+cell": {
     "cellMetadata": {
      "byteLimit": 2048000,
      "rowLimit": 10000
     },
     "inputWidgets": {},
     "nuid": "5bd95a78-e76a-4ebc-a3a8-8e065523fa2d",
     "showTitle": false,
     "tableResultSettingsMap": {},
     "title": ""
    }
   },
   "outputs": [
    {
     "output_type": "stream",
     "name": "stdout",
     "output_type": "stream",
     "text": [
      "+---------+-------------+\n|StockCode|total_vendida|\n+---------+-------------+\n|    22197|        56450|\n|    84077|        53847|\n|   85099B|        47363|\n|   85123A|        38830|\n|    84879|        36221|\n|    21212|        36039|\n|    23084|        30646|\n|    22492|        26437|\n|    22616|        26315|\n|    21977|        24753|\n+---------+-------------+\nonly showing top 10 rows\n"
     ]
    }
   ],
   "source": [
    "produto_mais_vendido = df_vendas.groupBy(\"StockCode\").agg(F.sum(\"Quantity\").alias(\"total_vendida\")).orderBy(F.desc(\"total_vendida\"))\n",
    "produto_mais_vendido.show(10)"
   ]
  },
  {
   "cell_type": "markdown",
   "metadata": {
    "application/vnd.databricks.v1+cell": {
     "cellMetadata": {
      "byteLimit": 2048000,
      "rowLimit": 10000
     },
     "inputWidgets": {},
     "nuid": "6e23d4df-486a-4490-baad-7207782eb108",
     "showTitle": false,
     "tableResultSettingsMap": {},
     "title": ""
    }
   },
   "source": [
    "## 7. Qual cliente (ID) não nulo teve o maior volume total de compras (soma de Total)?"
   ]
  },
  {
   "cell_type": "code",
   "execution_count": 0,
   "metadata": {
    "application/vnd.databricks.v1+cell": {
     "cellMetadata": {
      "byteLimit": 2048000,
      "rowLimit": 10000
     },
     "inputWidgets": {},
     "nuid": "f47b356c-8343-4f39-b40a-0e0377a6569d",
     "showTitle": false,
     "tableResultSettingsMap": {},
     "title": ""
    }
   },
   "outputs": [
    {
     "output_type": "stream",
     "name": "stdout",
     "output_type": "stream",
     "text": [
      "+-----------+------------+\n|Customer ID|Total_Compra|\n+-----------+------------+\n|    14646.0|      196719|\n|    12415.0|       77242|\n|    14911.0|       77180|\n|    17450.0|       69029|\n|    18102.0|       64122|\n|    17511.0|       63012|\n|    13694.0|       61803|\n|    14298.0|       58021|\n|    14156.0|       57025|\n|    16684.0|       49390|\n+-----------+------------+\n\n"
     ]
    }
   ],
   "source": [
    "maior_compra_por_cliente = df_vendas.filter(F.col(\"Customer ID\").isNotNull()).groupBy(\"Customer ID\").agg(F.sum(\"Quantity\").alias(\"Total_Compra\")).orderBy(F.desc(\"Total_Compra\")).limit(10)\n",
    "maior_compra_por_cliente.show(10)"
   ]
  },
  {
   "cell_type": "markdown",
   "metadata": {
    "application/vnd.databricks.v1+cell": {
     "cellMetadata": {
      "byteLimit": 2048000,
      "rowLimit": 10000
     },
     "inputWidgets": {},
     "nuid": "710d0516-1eec-4b92-bf7f-e4b297a54ee5",
     "showTitle": false,
     "tableResultSettingsMap": {},
     "title": ""
    }
   },
   "source": [
    "## 8. Qual mês do ano teve o maior faturamento total? Dica: converter a coluna InvoiceDate para mês."
   ]
  },
  {
   "cell_type": "code",
   "execution_count": 0,
   "metadata": {
    "application/vnd.databricks.v1+cell": {
     "cellMetadata": {
      "byteLimit": 2048000,
      "rowLimit": 10000
     },
     "inputWidgets": {},
     "nuid": "639e8f95-51fa-45b7-bcef-b59bd96c5d48",
     "showTitle": false,
     "tableResultSettingsMap": {},
     "title": ""
    }
   },
   "outputs": [
    {
     "output_type": "stream",
     "name": "stdout",
     "output_type": "stream",
     "text": [
      "+---+-----------+\n|mes|faturamento|\n+---+-----------+\n| 11|  1461756.0|\n| 12|  1182643.0|\n| 10|  1070705.0|\n|  9|  1019688.0|\n|  5|   723334.0|\n|  6|   691123.0|\n|  3|   683267.0|\n|  8|   682681.0|\n|  7|   681300.0|\n|  1|   560000.0|\n+---+-----------+\nonly showing top 10 rows\n"
     ]
    }
   ],
   "source": [
    "faturamento_mes = df_vendas.groupBy(F.month(\"InvoiceDate\").alias(\"mes\")).agg(F.round(F.sum(\"TotalPrice\")).alias(\"faturamento\")).orderBy(F.desc(\"faturamento\"))\n",
    "faturamento_mes.show(10)"
   ]
  },
  {
   "cell_type": "markdown",
   "metadata": {
    "application/vnd.databricks.v1+cell": {
     "cellMetadata": {
      "byteLimit": 2048000,
      "rowLimit": 10000
     },
     "inputWidgets": {},
     "nuid": "8c51751f-9b52-44ce-a5d0-6d8f7e9876ff",
     "showTitle": false,
     "tableResultSettingsMap": {},
     "title": ""
    }
   },
   "source": [
    "## 9. Qual descrição de produto aparece com maior frequência nas vendas?"
   ]
  },
  {
   "cell_type": "code",
   "execution_count": 0,
   "metadata": {
    "application/vnd.databricks.v1+cell": {
     "cellMetadata": {
      "byteLimit": 2048000,
      "rowLimit": 10000
     },
     "inputWidgets": {},
     "nuid": "ee6a5bf3-890b-40c3-a7b3-10b0806fc951",
     "showTitle": false,
     "tableResultSettingsMap": {},
     "title": ""
    }
   },
   "outputs": [
    {
     "output_type": "stream",
     "name": "stdout",
     "output_type": "stream",
     "text": [
      "+--------------------+--------------------+------------------------+\n|         Description|frequencia_descricao|total_quantidade_vendida|\n+--------------------+--------------------+------------------------+\n|WHITE HANGING HEA...|                2369|                   35317|\n|REGENCY CAKESTAND...|                2200|                   13033|\n|JUMBO BAG RED RET...|                2159|                   47363|\n|       PARTY BUNTING|                1727|                   18022|\n|LUNCH BAG RED RET...|                1638|                   18779|\n|ASSORTED COLOUR B...|                1501|                   36381|\n|SET OF 3 CAKE TIN...|                1473|                    7336|\n|                 nan|                1454|                  -13609|\n|PACK OF 72 RETROS...|                1385|                   36039|\n|LUNCH BAG  BLACK ...|                1350|                   12112|\n+--------------------+--------------------+------------------------+\n\n"
     ]
    }
   ],
   "source": [
    "descricao_produto = df_vendas.groupBy(\"Description\").agg(F.count(\"*\").alias(\"frequencia_descricao\"), F.sum(\"Quantity\").alias(\"total_quantidade_vendida\")).orderBy(F.desc(\"frequencia_descricao\")).limit(10)\n",
    "descricao_produto.show(10)"
   ]
  },
  {
   "cell_type": "code",
   "execution_count": 0,
   "metadata": {
    "application/vnd.databricks.v1+cell": {
     "cellMetadata": {
      "byteLimit": 2048000,
      "rowLimit": 10000
     },
     "inputWidgets": {},
     "nuid": "e8553cff-7d48-468c-b183-405d29ae1fa7",
     "showTitle": false,
     "tableResultSettingsMap": {},
     "title": ""
    }
   },
   "outputs": [],
   "source": []
  }
 ],
 "metadata": {
  "application/vnd.databricks.v1+notebook": {
   "computePreferences": null,
   "dashboards": [],
   "environmentMetadata": {
    "base_environment": "",
    "environment_version": "2"
   },
   "inputWidgetPreferences": null,
   "language": "python",
   "notebookMetadata": {
    "mostRecentlyExecutedCommandWithImplicitDF": {
     "commandId": -1,
     "dataframes": [
      "_sqldf"
     ]
    },
    "pythonIndentUnit": 4
   },
   "notebookName": "analise_de_vendas",
   "widgets": {}
  },
  "language_info": {
   "name": "python"
  }
 },
 "nbformat": 4,
 "nbformat_minor": 0
}